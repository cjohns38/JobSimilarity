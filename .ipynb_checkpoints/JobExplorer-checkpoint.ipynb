{
 "cells": [
  {
   "cell_type": "code",
   "execution_count": 8,
   "metadata": {
    "collapsed": true
   },
   "outputs": [],
   "source": [
    "import pickle\n",
    "import pandas as pd\n",
    "import numpy as np\n",
    "from functions.word2vec import listcomparision, model_comparison, find_jobs\n",
    "% matplotlib inline"
   ]
  },
  {
   "cell_type": "markdown",
   "metadata": {},
   "source": [
    "# Import O*NET Data"
   ]
  },
  {
   "cell_type": "code",
   "execution_count": 9,
   "metadata": {
    "collapsed": true
   },
   "outputs": [],
   "source": [
    "googledata = pickle.load(open('googledata.p', 'rb'))\n",
    "onetdata = pickle.load(open('onetdata.p', 'rb'))"
   ]
  },
  {
   "cell_type": "code",
   "execution_count": 11,
   "metadata": {},
   "outputs": [
    {
     "name": "stdout",
     "output_type": "stream",
     "text": [
      "***************\n",
      "Google data\n",
      "***************\n",
      "For the job of Actuaries...\n",
      "The most similiar jobs are...\n",
      "\t Sales Agents, Financial Services; cosine:0.99; SOC:41-3031.02; RIASEC:EC\n",
      "\t Financial Managers, Branch or Department; cosine:0.99; SOC:11-3031.02; RIASEC:EC\n",
      "\t Investment Fund Managers; cosine:0.99; SOC:11-9199.03; RIASEC:EC\n",
      "\t Insurance Underwriters; cosine:0.99; SOC:13-2053.00; RIASEC:CEI\n",
      "\t Credit Analysts; cosine:0.99; SOC:13-2041.00; RIASEC:CE\n",
      "\t Risk Management Specialists; cosine:0.99; SOC:13-2099.02; RIASEC:CEI\n",
      "\t Brokerage Clerks; cosine:0.99; SOC:43-4011.00; RIASEC:CE\n",
      "\t Sales Agents, Securities and Commodities; cosine:0.99; SOC:41-3031.01; RIASEC:EC\n",
      "\t Insurance Policy Processing Clerks; cosine:0.99; SOC:43-9041.02; RIASEC:CE\n",
      "\t Agents and Business Managers of Artists, Performers, and Athletes; cosine:0.99; SOC:13-1011.00; RIASEC:ES\n",
      "The least similar jobs are...\n",
      "\t Bakers; cosine:0.82; SOC:51-3011.00; RIASEC:RC\n",
      "\t Helpers--Pipelayers, Plumbers, Pipefitters, and Steamfitters; cosine:0.81; SOC:47-3015.00; RIASEC:R\n",
      "\t Fuel Cell Technicians; cosine:0.81; SOC:17-3029.10; RIASEC:RCI\n",
      "\t Agricultural Equipment Operators; cosine:0.80; SOC:45-2091.00; RIASEC:R\n",
      "\t Data Warehousing Specialists; cosine:0.80; SOC:15-1199.07; RIASEC:IC\n",
      "\n",
      "***************\n",
      "O*NET data\n",
      "***************\n",
      "For the job of Actuaries...\n",
      "The most similiar jobs are...\n",
      "\t Investment Fund Managers; cosine:0.99; SOC:11-9199.03; RIASEC:EC\n",
      "\t Securities and Commodities Traders; cosine:0.99; SOC:41-3031.03; RIASEC:EC\n",
      "\t Sales Agents, Securities and Commodities; cosine:0.99; SOC:41-3031.01; RIASEC:EC\n",
      "\t Economists; cosine:0.99; SOC:19-3011.00; RIASEC:ICE\n",
      "\t Fraud Examiners, Investigators and Analysts; cosine:0.99; SOC:13-2099.04; RIASEC:EIC\n",
      "\t Agents and Business Managers of Artists, Performers, and Athletes; cosine:0.99; SOC:13-1011.00; RIASEC:ES\n",
      "\t Tax Preparers; cosine:0.98; SOC:13-2082.00; RIASEC:CE\n",
      "\t Risk Management Specialists; cosine:0.98; SOC:13-2099.02; RIASEC:CEI\n",
      "\t Credit Analysts; cosine:0.98; SOC:13-2041.00; RIASEC:CE\n",
      "\t Sales Agents, Financial Services; cosine:0.98; SOC:41-3031.02; RIASEC:EC\n",
      "The least similar jobs are...\n",
      "\t Methane/Landfill Gas Collection System Operators; cosine:0.33; SOC:11-3051.05; RIASEC:CER\n",
      "\t Musical Instrument Repairers and Tuners; cosine:0.28; SOC:49-9063.00; RIASEC:RAI\n",
      "\t Helpers--Pipelayers, Plumbers, Pipefitters, and Steamfitters; cosine:0.27; SOC:47-3015.00; RIASEC:R\n",
      "\t Methane/Landfill Gas Generation System Technicians; cosine:0.15; SOC:51-8099.02; RIASEC:RCI\n",
      "\t Fuel Cell Technicians; cosine:0.12; SOC:17-3029.10; RIASEC:RCI\n"
     ]
    }
   ],
   "source": [
    "import ipywidgets as widgets\n",
    "from IPython.display import display, clear_output\n",
    "\n",
    "job_titles = sorted(list(onetdata.title.values))\n",
    "\n",
    "def on_change(change):\n",
    "    if change['type'] == 'change' and change['name'] == 'value':\n",
    "        clear_output()\n",
    "        soc = onetdata[onetdata.title == change.new]['onetsoc_code'].values[0]\n",
    "        print(\"***************\\nGoogle data\\n***************\")\n",
    "        find_jobs(googledata, soc, 10, 5)\n",
    "        print(\"\\n***************\\nO*NET data\\n***************\")\n",
    "        find_jobs(onetdata, soc, 10, 5)  \n",
    "\n",
    "w = widgets.Dropdown(options=job_titles,\n",
    "                     description='Title:'\n",
    "                    )\n",
    "\n",
    "w.observe(on_change)\n",
    "\n",
    "display(w)"
   ]
  },
  {
   "cell_type": "code",
   "execution_count": null,
   "metadata": {
    "collapsed": true
   },
   "outputs": [],
   "source": []
  }
 ],
 "metadata": {
  "kernelspec": {
   "display_name": "Python 3",
   "language": "python",
   "name": "python3"
  },
  "language_info": {
   "codemirror_mode": {
    "name": "ipython",
    "version": 3
   },
   "file_extension": ".py",
   "mimetype": "text/x-python",
   "name": "python",
   "nbconvert_exporter": "python",
   "pygments_lexer": "ipython3",
   "version": "3.6.1"
  }
 },
 "nbformat": 4,
 "nbformat_minor": 2
}
