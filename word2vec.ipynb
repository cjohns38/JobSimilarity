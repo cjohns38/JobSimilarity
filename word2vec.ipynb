{
 "cells": [
  {
   "cell_type": "code",
   "execution_count": 1,
   "metadata": {
    "collapsed": true
   },
   "outputs": [],
   "source": [
    "import pickle, gensim, logging, os\n",
    "import pandas as pd\n",
    "import numpy as np\n",
    "from nltk.corpus import stopwords \n",
    "from gensim.models.keyedvectors import KeyedVectors\n",
    "from functions.word2vec import preprocessText, average_word_embedding, \\\n",
    "     cosine_similarity, find_jobs, listcomparision, model_comparison"
   ]
  },
  {
   "cell_type": "code",
   "execution_count": 2,
   "metadata": {
    "collapsed": true
   },
   "outputs": [],
   "source": [
    "# Set up logging for gensim\n",
    "logging.basicConfig(format='%(asctime)s : %(levelname)s : %(message)s', level=logging.INFO)"
   ]
  },
  {
   "cell_type": "markdown",
   "metadata": {},
   "source": [
    "# Import O*NET Data"
   ]
  },
  {
   "cell_type": "code",
   "execution_count": 3,
   "metadata": {},
   "outputs": [],
   "source": [
    "df = pickle.load(open('onetdata.p', 'rb'))"
   ]
  },
  {
   "cell_type": "code",
   "execution_count": 4,
   "metadata": {},
   "outputs": [],
   "source": [
    "# Preprocess the text data \n",
    "stopWords = stopwords.words('english')\n",
    "df['processed'] = df.apply(lambda x: preprocessText(x['text'], stopWords), axis = 1)"
   ]
  },
  {
   "cell_type": "markdown",
   "metadata": {},
   "source": [
    "# Model creation \n",
    "\n",
    "Create two different models for comparision the first using googles model and the second training a model from scratch using ONET. "
   ]
  },
  {
   "cell_type": "code",
   "execution_count": 5,
   "metadata": {},
   "outputs": [
    {
     "name": "stderr",
     "output_type": "stream",
     "text": [
      "2017-11-13 21:44:52,469 : INFO : loading projection weights from /home/craig/Documents/googledata/GoogleNews-vectors-negative300.bin\n",
      "2017-11-13 21:45:39,779 : INFO : loaded (3000000, 300) matrix from /home/craig/Documents/googledata/GoogleNews-vectors-negative300.bin\n"
     ]
    }
   ],
   "source": [
    "# Pretrained vectors from google (https://code.google.com/archive/p/word2vec/)\n",
    "\n",
    "googlemodel = KeyedVectors.load_word2vec_format('/home/craig/Documents/googledata/GoogleNews-vectors-negative300.bin', binary=True)"
   ]
  },
  {
   "cell_type": "code",
   "execution_count": 6,
   "metadata": {},
   "outputs": [
    {
     "name": "stderr",
     "output_type": "stream",
     "text": [
      "2017-11-13 21:45:41,666 : INFO : loading Word2Vec object from onetmodel.model\n"
     ]
    },
    {
     "name": "stdout",
     "output_type": "stream",
     "text": [
      "Found O*NET model....\n"
     ]
    },
    {
     "name": "stderr",
     "output_type": "stream",
     "text": [
      "2017-11-13 21:45:41,898 : INFO : loading wv recursively from onetmodel.model.wv.* with mmap=None\n",
      "2017-11-13 21:45:41,899 : INFO : setting ignored attribute syn0norm to None\n",
      "2017-11-13 21:45:41,901 : INFO : setting ignored attribute cum_table to None\n",
      "2017-11-13 21:45:41,911 : INFO : loaded onetmodel.model\n"
     ]
    }
   ],
   "source": [
    "# Load or build the O*NET model\n",
    "\n",
    "if os.path.isfile(\"onetmodel.model\"):\n",
    "    print(\"Found O*NET model....\")\n",
    "    onetmodel = gensim.models.Word2Vec.load(\"onetmodel.model\")\n",
    "else: \n",
    "    # Create O*NET Model and save it so we can use it later \n",
    "    onetmodel = gensim.models.Word2Vec(df.processed, size=300, window = 5, iter=15, workers=4)\n",
    "    onetmodel.save(\"onetmodel.model\")"
   ]
  },
  {
   "cell_type": "markdown",
   "metadata": {},
   "source": [
    "# Create average word embeddings \n",
    "\n",
    "\n",
    "Now we create two datasets using the two different models.  One model (googledata) uses the google model and the second uses the O*NET model"
   ]
  },
  {
   "cell_type": "code",
   "execution_count": 7,
   "metadata": {},
   "outputs": [],
   "source": [
    "# List for vector names \n",
    "variables = ['d' + str(x) for x in range(0,300)]\n",
    "\n",
    "# Create google dataframe \n",
    "googledata = df.copy()\n",
    "googledata[variables] = googledata.apply(lambda x: average_word_embedding(x['processed'], googlemodel, True), axis = 1)\n",
    "\n",
    "# Create O*NET dataframe\n",
    "onetdata = df.copy()\n",
    "onetdata[variables] = onetdata.apply(lambda x: average_word_embedding(x['processed'], onetmodel), axis = 1)"
   ]
  },
  {
   "cell_type": "code",
   "execution_count": 8,
   "metadata": {
    "collapsed": true
   },
   "outputs": [],
   "source": [
    "# Pickle the DFs so we can use it later \n",
    "if os.path.isfile(\"googledata.p\") == False:\n",
    "    googledata.to_pickle(\"googledata.p\")\n",
    "    \n",
    "if os.path.isfile(\"onetdata.p\") == False:\n",
    "    onetdata.to_pickle(\"onetdata.p\")"
   ]
  },
  {
   "cell_type": "markdown",
   "metadata": {},
   "source": [
    "# Let's run some examples to see what jobs are similar using both models"
   ]
  },
  {
   "cell_type": "code",
   "execution_count": 9,
   "metadata": {},
   "outputs": [
    {
     "name": "stdout",
     "output_type": "stream",
     "text": [
      "***************\n",
      "Google data\n",
      "***************\n",
      "For the job of Agricultural Engineers...\n",
      "The most similiar jobs are...\n",
      "\t Buyers and Purchasing Agents, Farm Products\n",
      "\t Wind Energy Project Managers\n",
      "\t Geothermal Production Managers\n",
      "\t Natural Sciences Managers\n",
      "\t Farm and Home Management Advisors\n",
      "\t Marine Architects\n",
      "\t Industrial Production Managers\n",
      "\t Petroleum Engineers\n",
      "\t Transportation Engineers\n",
      "\t Marine Engineers\n",
      "The least similar jobs are...\n",
      "\t Surgeons\n",
      "\t Helpers--Pipelayers, Plumbers, Pipefitters, and Steamfitters\n",
      "\t Agricultural Equipment Operators\n",
      "\t Fuel Cell Technicians\n",
      "\t Data Warehousing Specialists\n",
      "\n",
      "***************\n",
      "O*NET data\n",
      "***************\n",
      "For the job of Agricultural Engineers...\n",
      "The most similiar jobs are...\n",
      "\t Geothermal Production Managers\n",
      "\t Marine Architects\n",
      "\t Petroleum Engineers\n",
      "\t Wind Energy Project Managers\n",
      "\t Mining and Geological Engineers, Including Mining Safety Engineers\n",
      "\t Range Managers\n",
      "\t Solar Sales Representatives and Assessors\n",
      "\t Buyers and Purchasing Agents, Farm Products\n",
      "\t Farm and Home Management Advisors\n",
      "\t Landscape Architects\n",
      "The least similar jobs are...\n",
      "\t Data Warehousing Specialists\n",
      "\t Helpers--Pipelayers, Plumbers, Pipefitters, and Steamfitters\n",
      "\t Musical Instrument Repairers and Tuners\n",
      "\t Methane/Landfill Gas Generation System Technicians\n",
      "\t Fuel Cell Technicians\n"
     ]
    }
   ],
   "source": [
    "import ipywidgets as widgets\n",
    "from IPython.display import display, clear_output\n",
    "\n",
    "job_titles = sorted(list(df.title.values))\n",
    "\n",
    "def on_change(change):\n",
    "    if change['type'] == 'change' and change['name'] == 'value':\n",
    "        clear_output()\n",
    "        soc = df[df.title == change.new]['onetsoc_code'].values[0]\n",
    "        print(\"***************\\nGoogle data\\n***************\")\n",
    "        find_jobs(googledata, soc, 10, 5)\n",
    "        print(\"\\n***************\\nO*NET data\\n***************\")\n",
    "        find_jobs(onetdata, soc, 10, 5)  \n",
    "\n",
    "w = widgets.Dropdown(options=job_titles,\n",
    "                     description='Title:'\n",
    "                    )\n",
    "\n",
    "w.observe(on_change)\n",
    "\n",
    "display(w)"
   ]
  },
  {
   "cell_type": "code",
   "execution_count": null,
   "metadata": {
    "collapsed": true
   },
   "outputs": [],
   "source": []
  }
 ],
 "metadata": {
  "kernelspec": {
   "display_name": "Python 3",
   "language": "python",
   "name": "python3"
  },
  "language_info": {
   "codemirror_mode": {
    "name": "ipython",
    "version": 3
   },
   "file_extension": ".py",
   "mimetype": "text/x-python",
   "name": "python",
   "nbconvert_exporter": "python",
   "pygments_lexer": "ipython3",
   "version": "3.6.1"
  }
 },
 "nbformat": 4,
 "nbformat_minor": 2
}
