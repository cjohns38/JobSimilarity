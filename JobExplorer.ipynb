{
 "cells": [
  {
   "cell_type": "code",
   "execution_count": 4,
   "metadata": {
    "collapsed": true
   },
   "outputs": [],
   "source": [
    "import pickle\n",
    "import pandas as pd\n",
    "import numpy as np\n",
    "import ipywidgets as widgets\n",
    "from IPython.display import display, clear_output\n",
    "from functions.word2vec import listcomparision, model_comparison, find_jobs\n",
    "% matplotlib inline"
   ]
  },
  {
   "cell_type": "markdown",
   "metadata": {},
   "source": [
    "# Import O*NET Data"
   ]
  },
  {
   "cell_type": "code",
   "execution_count": 5,
   "metadata": {
    "collapsed": true
   },
   "outputs": [],
   "source": [
    "googledata = pickle.load(open('googledata.p', 'rb'))\n",
    "onetdata = pickle.load(open('onetdata.p', 'rb'))"
   ]
  },
  {
   "cell_type": "code",
   "execution_count": 6,
   "metadata": {},
   "outputs": [
    {
     "name": "stdout",
     "output_type": "stream",
     "text": [
      "***************Computer Programmers***************\n",
      "\n",
      "\n",
      "ONET:15-1131.00\n",
      "Holland Code:IC\n",
      "\n",
      "\n",
      "***************\n",
      "Google data\n",
      "***************\n",
      "The most similiar jobs are...\n",
      "\t Software Developers, Applications; cosine:1.00; O*NET:15-1132.00; Holland code:IRC\n",
      "\t Software Developers, Systems Software; cosine:0.99; O*NET:15-1133.00; Holland code:ICR\n",
      "\t Software Quality Assurance Engineers and Testers; cosine:0.99; O*NET:15-1199.01; Holland code:ICR\n",
      "\t Computer Systems Engineers/Architects; cosine:0.99; O*NET:15-1199.02; Holland code:IRC\n",
      "\t Computer Systems Analysts; cosine:0.99; O*NET:15-1121.00; Holland code:ICR\n",
      "\t Database Administrators; cosine:0.99; O*NET:15-1141.00; Holland code:CI\n",
      "\t Computer and Information Systems Managers; cosine:0.99; O*NET:11-3021.00; Holland code:ECI\n",
      "\t Computer User Support Specialists; cosine:0.99; O*NET:15-1151.00; Holland code:RIC\n",
      "\t Web Developers; cosine:0.99; O*NET:15-1134.00; Holland code:CIR\n",
      "\t Information Technology Project Managers; cosine:0.99; O*NET:15-1199.09; Holland code:EC\n",
      "The least similar jobs are...\n",
      "\t Bakers; cosine:0.77; O*NET:51-3011.00; Holland code:RC\n",
      "\t Landscaping and Groundskeeping Workers; cosine:0.76; O*NET:37-3011.00; Holland code:RC\n",
      "\t Helpers--Pipelayers, Plumbers, Pipefitters, and Steamfitters; cosine:0.76; O*NET:47-3015.00; Holland code:R\n",
      "\t Surgeons; cosine:0.75; O*NET:29-1067.00; Holland code:IRS\n",
      "\t Agricultural Equipment Operators; cosine:0.74; O*NET:45-2091.00; Holland code:R\n",
      "\n",
      "***************\n",
      "O*NET data\n",
      "***************\n",
      "The most similiar jobs are...\n",
      "\t Software Developers, Applications; cosine:0.99; O*NET:15-1132.00; Holland code:IRC\n",
      "\t Computer Systems Engineers/Architects; cosine:0.98; O*NET:15-1199.02; Holland code:IRC\n",
      "\t Computer Systems Analysts; cosine:0.98; O*NET:15-1121.00; Holland code:ICR\n",
      "\t Software Quality Assurance Engineers and Testers; cosine:0.98; O*NET:15-1199.01; Holland code:ICR\n",
      "\t Database Administrators; cosine:0.98; O*NET:15-1141.00; Holland code:CI\n",
      "\t Software Developers, Systems Software; cosine:0.98; O*NET:15-1133.00; Holland code:ICR\n",
      "\t Computer User Support Specialists; cosine:0.98; O*NET:15-1151.00; Holland code:RIC\n",
      "\t Database Architects; cosine:0.98; O*NET:15-1199.06; Holland code:ICE\n",
      "\t Computer and Information Systems Managers; cosine:0.97; O*NET:11-3021.00; Holland code:ECI\n",
      "\t Information Technology Project Managers; cosine:0.97; O*NET:15-1199.09; Holland code:EC\n",
      "The least similar jobs are...\n",
      "\t Welders, Cutters, and Welder Fitters; cosine:0.23; O*NET:51-4121.06; Holland code:RC\n",
      "\t Glaziers; cosine:0.21; O*NET:47-2121.00; Holland code:RC\n",
      "\t Solderers and Brazers; cosine:0.19; O*NET:51-4121.07; Holland code:R\n",
      "\t Musical Instrument Repairers and Tuners; cosine:0.16; O*NET:49-9063.00; Holland code:RAI\n",
      "\t Helpers--Pipelayers, Plumbers, Pipefitters, and Steamfitters; cosine:0.14; O*NET:47-3015.00; Holland code:R\n"
     ]
    }
   ],
   "source": [
    "\n",
    "job_titles = sorted(list(onetdata.title.values))\n",
    "\n",
    "def on_change(change):\n",
    "    if change['type'] == 'change' and change['name'] == 'value':\n",
    "        clear_output()\n",
    "        soc = onetdata[onetdata.title == change.new]['onetsoc_code'].values[0]\n",
    "        title = googledata[googledata['onetsoc_code'] == soc]['title'].values[0]\n",
    "        holland = googledata[googledata['onetsoc_code'] == soc]['riasec'].values[0]\n",
    "        print(\"***************{0}***************\\n\\n\".format(title))\n",
    "        print(\"ONET:{0}\".format(soc))\n",
    "        print(\"Holland Code:{0}\\n\\n\".format(holland))\n",
    "        print(\"***************\\nGoogle data\\n***************\")\n",
    "        find_jobs(googledata, soc, 10, 5)\n",
    "        print(\"\\n***************\\nO*NET data\\n***************\")\n",
    "        find_jobs(onetdata, soc, 10, 5)  \n",
    "\n",
    "w = widgets.Dropdown(options=job_titles,\n",
    "                     description='Title:'\n",
    "                    )\n",
    "\n",
    "w.observe(on_change)\n",
    "\n",
    "display(w)"
   ]
  },
  {
   "cell_type": "code",
   "execution_count": null,
   "metadata": {
    "collapsed": true
   },
   "outputs": [],
   "source": []
  }
 ],
 "metadata": {
  "kernelspec": {
   "display_name": "Python 3",
   "language": "python",
   "name": "python3"
  },
  "language_info": {
   "codemirror_mode": {
    "name": "ipython",
    "version": 3
   },
   "file_extension": ".py",
   "mimetype": "text/x-python",
   "name": "python",
   "nbconvert_exporter": "python",
   "pygments_lexer": "ipython3",
   "version": "3.6.1"
  }
 },
 "nbformat": 4,
 "nbformat_minor": 2
}
